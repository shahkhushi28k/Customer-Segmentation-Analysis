{
 "cells": [
  {
   "cell_type": "markdown",
   "id": "3c6582fb",
   "metadata": {
    "papermill": {
     "duration": 0.010522,
     "end_time": "2023-04-15T07:52:46.881271",
     "exception": false,
     "start_time": "2023-04-15T07:52:46.870749",
     "status": "completed"
    },
    "tags": []
   },
   "source": [
    "# CUSTOMER SEGMENTATION AND CLUSTURING"
   ]
  },
  {
   "cell_type": "markdown",
   "id": "45b4fe63",
   "metadata": {
    "papermill": {
     "duration": 0.009038,
     "end_time": "2023-04-15T07:52:46.899963",
     "exception": false,
     "start_time": "2023-04-15T07:52:46.890925",
     "status": "completed"
    },
    "tags": []
   },
   "source": [
    "# CONTEXT"
   ]
  },
  {
   "cell_type": "markdown",
   "id": "ee8dbff7",
   "metadata": {
    "papermill": {
     "duration": 0.009035,
     "end_time": "2023-04-15T07:52:46.918337",
     "exception": false,
     "start_time": "2023-04-15T07:52:46.909302",
     "status": "completed"
    },
    "tags": []
   },
   "source": [
    "You are owing a supermarket mall and through membership cards , you have some basic data about your customers like Customer ID, age, gender, annual income and spending score.\n",
    "Spending Score is something you assign to the customer based on your defined parameters like customer behavior and purchasing data."
   ]
  },
  {
   "cell_type": "markdown",
   "id": "a368695f",
   "metadata": {
    "papermill": {
     "duration": 0.01049,
     "end_time": "2023-04-15T07:52:46.938055",
     "exception": false,
     "start_time": "2023-04-15T07:52:46.927565",
     "status": "completed"
    },
    "tags": []
   },
   "source": [
    "# PROBLEM STATEMENT"
   ]
  },
  {
   "cell_type": "markdown",
   "id": "072aa2d0",
   "metadata": {
    "papermill": {
     "duration": 0.009047,
     "end_time": "2023-04-15T07:52:46.956396",
     "exception": false,
     "start_time": "2023-04-15T07:52:46.947349",
     "status": "completed"
    },
    "tags": []
   },
   "source": [
    "Gaining insights of customer in a mall.\n",
    "We had to create a system in which we had to arrange clusters of\n",
    "customers based on their purchases and other factors from the\n",
    "dataset.\n",
    "One group claims to have spent a lot of money at the mall, while\n",
    "the other claims to have spent much less.\n",
    "This influences a mall's decision-making to improve their\n",
    "company's marketing plan."
   ]
  },
  {
   "cell_type": "markdown",
   "id": "116b73bd",
   "metadata": {
    "papermill": {
     "duration": 0.009143,
     "end_time": "2023-04-15T07:52:46.974923",
     "exception": false,
     "start_time": "2023-04-15T07:52:46.965780",
     "status": "completed"
    },
    "tags": []
   },
   "source": [
    "Clustering comes under unsupervised learning"
   ]
  },
  {
   "cell_type": "markdown",
   "id": "8a938a31",
   "metadata": {
    "papermill": {
     "duration": 0.009298,
     "end_time": "2023-04-15T07:52:46.993866",
     "exception": false,
     "start_time": "2023-04-15T07:52:46.984568",
     "status": "completed"
    },
    "tags": []
   },
   "source": [
    "# WORK FLOW "
   ]
  },
  {
   "cell_type": "markdown",
   "id": "b716feb3",
   "metadata": {
    "papermill": {
     "duration": 0.00964,
     "end_time": "2023-04-15T07:52:47.013715",
     "exception": false,
     "start_time": "2023-04-15T07:52:47.004075",
     "status": "completed"
    },
    "tags": []
   },
   "source": [
    "1. Gathering relevant data.\n",
    "2. Comprehension of the k-means clustering technique.\n",
    "3. How the k-means algorithm segments customers.\n",
    "4. Utilizing the panda's framework and data vis. to Analyze data.\n",
    "5. Data slicing (data abstraction).\n",
    "6. Using an algorithm to the data.\n",
    "7. Graphing an elbow."
   ]
  },
  {
   "cell_type": "code",
   "execution_count": 1,
   "id": "5dedbcad",
   "metadata": {
    "execution": {
     "iopub.execute_input": "2023-04-15T07:52:47.035650Z",
     "iopub.status.busy": "2023-04-15T07:52:47.034873Z",
     "iopub.status.idle": "2023-04-15T07:52:48.873474Z",
     "shell.execute_reply": "2023-04-15T07:52:48.872160Z"
    },
    "papermill": {
     "duration": 1.853516,
     "end_time": "2023-04-15T07:52:48.876650",
     "exception": false,
     "start_time": "2023-04-15T07:52:47.023134",
     "status": "completed"
    },
    "tags": []
   },
   "outputs": [],
   "source": [
    "#importing libraries\n",
    "import numpy as np\n",
    "import pandas as pd\n",
    "import matplotlib.pyplot as plt\n",
    "import seaborn as sns\n",
    "from sklearn.cluster import KMeans"
   ]
  },
  {
   "cell_type": "markdown",
   "id": "d6d1dbb3",
   "metadata": {
    "papermill": {
     "duration": 0.00912,
     "end_time": "2023-04-15T07:52:48.895510",
     "exception": false,
     "start_time": "2023-04-15T07:52:48.886390",
     "status": "completed"
    },
    "tags": []
   },
   "source": [
    "# A. IMPORTING THE DATA\n"
   ]
  },
  {
   "cell_type": "code",
   "execution_count": 2,
   "id": "e3967cf8",
   "metadata": {
    "execution": {
     "iopub.execute_input": "2023-04-15T07:52:48.916377Z",
     "iopub.status.busy": "2023-04-15T07:52:48.915940Z",
     "iopub.status.idle": "2023-04-15T07:52:49.034462Z",
     "shell.execute_reply": "2023-04-15T07:52:49.032851Z"
    },
    "papermill": {
     "duration": 0.131623,
     "end_time": "2023-04-15T07:52:49.036676",
     "exception": true,
     "start_time": "2023-04-15T07:52:48.905053",
     "status": "failed"
    },
    "tags": []
   },
   "outputs": [
    {
     "ename": "NameError",
     "evalue": "name 'customer_data' is not defined",
     "output_type": "error",
     "traceback": [
      "\u001b[0;31m---------------------------------------------------------------------------\u001b[0m",
      "\u001b[0;31mNameError\u001b[0m                                 Traceback (most recent call last)",
      "\u001b[0;32m/tmp/ipykernel_19/1863083937.py\u001b[0m in \u001b[0;36m<module>\u001b[0;34m\u001b[0m\n\u001b[0;32m----> 1\u001b[0;31m \u001b[0mcustomer_data\u001b[0m\u001b[0;34m.\u001b[0m\u001b[0mdrop\u001b[0m\u001b[0;34m(\u001b[0m\u001b[0;34m[\u001b[0m\u001b[0;34m'CustomerID'\u001b[0m\u001b[0;34m]\u001b[0m\u001b[0;34m,\u001b[0m\u001b[0maxis\u001b[0m\u001b[0;34m=\u001b[0m\u001b[0;36m1\u001b[0m\u001b[0;34m,\u001b[0m\u001b[0minplace\u001b[0m\u001b[0;34m=\u001b[0m\u001b[0;32mTrue\u001b[0m\u001b[0;34m)\u001b[0m\u001b[0;34m\u001b[0m\u001b[0;34m\u001b[0m\u001b[0m\n\u001b[0m\u001b[1;32m      2\u001b[0m \u001b[0mcustomer_data\u001b[0m\u001b[0;34m.\u001b[0m\u001b[0mcolumns\u001b[0m \u001b[0;34m=\u001b[0m \u001b[0;34m[\u001b[0m\u001b[0;34m'Gender'\u001b[0m\u001b[0;34m,\u001b[0m\u001b[0;34m'Age'\u001b[0m\u001b[0;34m,\u001b[0m\u001b[0;34m'Income'\u001b[0m\u001b[0;34m,\u001b[0m\u001b[0;34m'Spending'\u001b[0m\u001b[0;34m]\u001b[0m\u001b[0;34m\u001b[0m\u001b[0;34m\u001b[0m\u001b[0m\n",
      "\u001b[0;31mNameError\u001b[0m: name 'customer_data' is not defined"
     ]
    }
   ],
   "source": [
    "customer_data.drop(['CustomerID'],axis=1,inplace=True)\n",
    "customer_data.columns = ['Gender','Age','Income','Spending']"
   ]
  },
  {
   "cell_type": "code",
   "execution_count": null,
   "id": "96853c9f",
   "metadata": {
    "papermill": {
     "duration": null,
     "end_time": null,
     "exception": null,
     "start_time": null,
     "status": "pending"
    },
    "tags": []
   },
   "outputs": [],
   "source": [
    "customer_data = pd.read_csv('customer_segmen.csv')"
   ]
  },
  {
   "cell_type": "markdown",
   "id": "39c2d31f",
   "metadata": {
    "papermill": {
     "duration": null,
     "end_time": null,
     "exception": null,
     "start_time": null,
     "status": "pending"
    },
    "tags": []
   },
   "source": [
    "# B. EXPLORING THE DATA"
   ]
  },
  {
   "cell_type": "markdown",
   "id": "e781dfcf",
   "metadata": {
    "papermill": {
     "duration": null,
     "end_time": null,
     "exception": null,
     "start_time": null,
     "status": "pending"
    },
    "tags": []
   },
   "source": [
    "This project is a part of the Mall Customer Segmentation Data competition held on Kaggle."
   ]
  },
  {
   "cell_type": "code",
   "execution_count": null,
   "id": "2cd717d9",
   "metadata": {
    "execution": {
     "iopub.status.busy": "2023-03-26T13:45:09.322057Z",
     "iopub.status.idle": "2023-03-26T13:45:09.322743Z",
     "shell.execute_reply": "2023-03-26T13:45:09.322551Z",
     "shell.execute_reply.started": "2023-03-26T13:45:09.322527Z"
    },
    "papermill": {
     "duration": null,
     "end_time": null,
     "exception": null,
     "start_time": null,
     "status": "pending"
    },
    "tags": []
   },
   "outputs": [],
   "source": [
    "customer_data.head()"
   ]
  },
  {
   "cell_type": "code",
   "execution_count": null,
   "id": "df59de76",
   "metadata": {
    "execution": {
     "iopub.status.busy": "2023-03-26T13:45:09.323993Z",
     "iopub.status.idle": "2023-03-26T13:45:09.324677Z",
     "shell.execute_reply": "2023-03-26T13:45:09.324492Z",
     "shell.execute_reply.started": "2023-03-26T13:45:09.324468Z"
    },
    "papermill": {
     "duration": null,
     "end_time": null,
     "exception": null,
     "start_time": null,
     "status": "pending"
    },
    "tags": []
   },
   "outputs": [],
   "source": [
    "customer_data.shape"
   ]
  },
  {
   "cell_type": "code",
   "execution_count": null,
   "id": "4045462b",
   "metadata": {
    "execution": {
     "iopub.status.busy": "2023-03-26T13:45:09.325832Z",
     "iopub.status.idle": "2023-03-26T13:45:09.326521Z",
     "shell.execute_reply": "2023-03-26T13:45:09.326335Z",
     "shell.execute_reply.started": "2023-03-26T13:45:09.326310Z"
    },
    "papermill": {
     "duration": null,
     "end_time": null,
     "exception": null,
     "start_time": null,
     "status": "pending"
    },
    "tags": []
   },
   "outputs": [],
   "source": [
    "customer_data.info()"
   ]
  },
  {
   "cell_type": "code",
   "execution_count": null,
   "id": "64a1dbb0",
   "metadata": {
    "execution": {
     "iopub.status.busy": "2023-03-26T13:45:09.327673Z",
     "iopub.status.idle": "2023-03-26T13:45:09.328395Z",
     "shell.execute_reply": "2023-03-26T13:45:09.328204Z",
     "shell.execute_reply.started": "2023-03-26T13:45:09.328174Z"
    },
    "papermill": {
     "duration": null,
     "end_time": null,
     "exception": null,
     "start_time": null,
     "status": "pending"
    },
    "tags": []
   },
   "outputs": [],
   "source": [
    "customer_data.isnull().sum()\n",
    "#no null values"
   ]
  },
  {
   "cell_type": "code",
   "execution_count": null,
   "id": "8a168c58",
   "metadata": {
    "execution": {
     "iopub.status.busy": "2023-03-26T13:45:09.329625Z",
     "iopub.status.idle": "2023-03-26T13:45:09.330327Z",
     "shell.execute_reply": "2023-03-26T13:45:09.330134Z",
     "shell.execute_reply.started": "2023-03-26T13:45:09.330102Z"
    },
    "papermill": {
     "duration": null,
     "end_time": null,
     "exception": null,
     "start_time": null,
     "status": "pending"
    },
    "tags": []
   },
   "outputs": [],
   "source": [
    "customer_data['Gender'] = [1 if each == \"Female\" else 0 for each in  customer_data.loc[:,'Gender']]\n",
    "customer_data.head()"
   ]
  },
  {
   "cell_type": "markdown",
   "id": "fa535495",
   "metadata": {
    "papermill": {
     "duration": null,
     "end_time": null,
     "exception": null,
     "start_time": null,
     "status": "pending"
    },
    "tags": []
   },
   "source": [
    "# C. VISUALIZATION THE DATA"
   ]
  },
  {
   "cell_type": "markdown",
   "id": "708c676b",
   "metadata": {
    "papermill": {
     "duration": null,
     "end_time": null,
     "exception": null,
     "start_time": null,
     "status": "pending"
    },
    "tags": []
   },
   "source": [
    "---> Pie chart to check the distribution of male and female population in the dataset. "
   ]
  },
  {
   "cell_type": "code",
   "execution_count": null,
   "id": "dd7a92be",
   "metadata": {
    "execution": {
     "iopub.status.busy": "2023-03-26T13:45:09.331587Z",
     "iopub.status.idle": "2023-03-26T13:45:09.332296Z",
     "shell.execute_reply": "2023-03-26T13:45:09.332101Z",
     "shell.execute_reply.started": "2023-03-26T13:45:09.332073Z"
    },
    "papermill": {
     "duration": null,
     "end_time": null,
     "exception": null,
     "start_time": null,
     "status": "pending"
    },
    "tags": []
   },
   "outputs": [],
   "source": [
    "labels = ['Female', 'Male']\n",
    "size = customer_data['Gender'].value_counts()\n",
    "colors = ['blue', 'orange']\n",
    "explode = [0, 0.1]\n",
    "\n",
    "plt.rcParams['figure.figsize'] = (9, 9)\n",
    "plt.pie(size, colors = colors, explode = explode, labels = labels, shadow = True, autopct = '%.2f%%')\n",
    "plt.title('Gender', fontsize = 15)\n",
    "plt.axis('off')\n",
    "plt.legend()\n",
    "plt.show()"
   ]
  },
  {
   "cell_type": "markdown",
   "id": "354817fb",
   "metadata": {
    "papermill": {
     "duration": null,
     "end_time": null,
     "exception": null,
     "start_time": null,
     "status": "pending"
    },
    "tags": []
   },
   "source": [
    "The female population clearly outweighs the male counterpart."
   ]
  },
  {
   "cell_type": "markdown",
   "id": "f0760600",
   "metadata": {
    "papermill": {
     "duration": null,
     "end_time": null,
     "exception": null,
     "start_time": null,
     "status": "pending"
    },
    "tags": []
   },
   "source": [
    "---> Distribution of number of customers in each age group."
   ]
  },
  {
   "cell_type": "code",
   "execution_count": null,
   "id": "2eb0d7e1",
   "metadata": {
    "execution": {
     "iopub.status.busy": "2023-03-26T13:45:09.333556Z",
     "iopub.status.idle": "2023-03-26T13:45:09.334289Z",
     "shell.execute_reply": "2023-03-26T13:45:09.334087Z",
     "shell.execute_reply.started": "2023-03-26T13:45:09.334047Z"
    },
    "papermill": {
     "duration": null,
     "end_time": null,
     "exception": null,
     "start_time": null,
     "status": "pending"
    },
    "tags": []
   },
   "outputs": [],
   "source": [
    "age18_25 = customer_data.Age[(customer_data.Age <= 25) & (customer_data.Age >= 18)]\n",
    "age26_35 = customer_data.Age[(customer_data.Age <= 35) & (customer_data.Age >= 26)]\n",
    "age36_45 = customer_data.Age[(customer_data.Age <= 45) & (customer_data.Age >= 36)]\n",
    "age46_55 = customer_data.Age[(customer_data.Age <= 55) & (customer_data.Age >= 46)]\n",
    "age55above = customer_data.Age[customer_data.Age >= 56]\n",
    "\n",
    "x = [\"18-25\",\"26-35\",\"36-45\",\"46-55\",\"55+\"]\n",
    "y = [len(age18_25.values),len(age26_35.values),len(age36_45.values),len(age46_55.values),len(age55above.values)]\n",
    "\n",
    "plt.figure(figsize=(15,6))\n",
    "sns.barplot(x=x, y=y, palette=\"rocket\")\n",
    "plt.title(\"Number of Customer and Ages\")\n",
    "plt.xlabel(\"Age\")\n",
    "plt.ylabel(\"Number of Customer\")\n",
    "plt.show()"
   ]
  },
  {
   "cell_type": "markdown",
   "id": "530a6c13",
   "metadata": {
    "papermill": {
     "duration": null,
     "end_time": null,
     "exception": null,
     "start_time": null,
     "status": "pending"
    },
    "tags": []
   },
   "source": [
    "26–35 age group outweighs every other age group."
   ]
  },
  {
   "cell_type": "markdown",
   "id": "bb801c38",
   "metadata": {
    "papermill": {
     "duration": null,
     "end_time": null,
     "exception": null,
     "start_time": null,
     "status": "pending"
    },
    "tags": []
   },
   "source": [
    "---> Bar plot to visualize the number of customers according to their spending scores. "
   ]
  },
  {
   "cell_type": "code",
   "execution_count": null,
   "id": "8295e045",
   "metadata": {
    "execution": {
     "iopub.status.busy": "2023-03-26T13:45:09.335403Z",
     "iopub.status.idle": "2023-03-26T13:45:09.336183Z",
     "shell.execute_reply": "2023-03-26T13:45:09.335963Z",
     "shell.execute_reply.started": "2023-03-26T13:45:09.335907Z"
    },
    "papermill": {
     "duration": null,
     "end_time": null,
     "exception": null,
     "start_time": null,
     "status": "pending"
    },
    "tags": []
   },
   "outputs": [],
   "source": [
    "ss1_20 = customer_data[\"Spending\"][(customer_data[\"Spending\"] >= 1) & (customer_data[\"Spending\"] <= 20)]\n",
    "ss21_40 = customer_data[\"Spending\"][(customer_data[\"Spending\"] >= 21) & (customer_data[\"Spending\"] <= 40)]\n",
    "ss41_60 = customer_data[\"Spending\"][(customer_data[\"Spending\"] >= 41) & (customer_data[\"Spending\"] <= 60)]\n",
    "ss61_80 = customer_data[\"Spending\"][(customer_data[\"Spending\"] >= 61) & (customer_data[\"Spending\"] <= 80)]\n",
    "ss81_100 = customer_data[\"Spending\"][(customer_data[\"Spending\"] >= 81) & (customer_data[\"Spending\"] <= 100)]\n",
    "\n",
    "ssx = [\"1-20\", \"21-40\", \"41-60\", \"61-80\", \"81-100\"]\n",
    "ssy = [len(ss1_20.values), len(ss21_40.values), len(ss41_60.values), len(ss61_80.values), len(ss81_100.values)]\n",
    "\n",
    "plt.figure(figsize=(15,6))\n",
    "sns.barplot(x=ssx, y=ssy, palette=\"nipy_spectral_r\")\n",
    "plt.title(\"Spending Scores\")\n",
    "plt.xlabel(\"Score\")\n",
    "plt.ylabel(\"Number of Customer Having the Score\")\n",
    "plt.show()\n",
    "\n"
   ]
  },
  {
   "cell_type": "markdown",
   "id": "e6c0abbe",
   "metadata": {
    "papermill": {
     "duration": null,
     "end_time": null,
     "exception": null,
     "start_time": null,
     "status": "pending"
    },
    "tags": []
   },
   "source": [
    "The majority of the customers have spending score in the range 41–60."
   ]
  },
  {
   "cell_type": "markdown",
   "id": "2f06e73c",
   "metadata": {
    "papermill": {
     "duration": null,
     "end_time": null,
     "exception": null,
     "start_time": null,
     "status": "pending"
    },
    "tags": []
   },
   "source": [
    "---> Bar plot to visualize the number of customers according to their annual income."
   ]
  },
  {
   "cell_type": "code",
   "execution_count": null,
   "id": "d925119c",
   "metadata": {
    "execution": {
     "iopub.status.busy": "2023-03-26T13:45:09.337827Z",
     "iopub.status.idle": "2023-03-26T13:45:09.341421Z",
     "shell.execute_reply": "2023-03-26T13:45:09.341099Z",
     "shell.execute_reply.started": "2023-03-26T13:45:09.341059Z"
    },
    "papermill": {
     "duration": null,
     "end_time": null,
     "exception": null,
     "start_time": null,
     "status": "pending"
    },
    "tags": []
   },
   "outputs": [],
   "source": [
    "ai0_30 = customer_data[\"Income\"][(customer_data[\"Income\"] >= 0) & (customer_data[\"Income\"] <= 30)]\n",
    "ai31_60 = customer_data[\"Income\"][(customer_data[\"Income\"] >= 31) & (customer_data[\"Income\"] <= 60)]\n",
    "ai61_90 = customer_data[\"Income\"][(customer_data[\"Income\"] >= 61) & (customer_data[\"Income\"] <= 90)]\n",
    "ai91_120 = customer_data[\"Income\"][(customer_data[\"Income\"] >= 91) & (customer_data[\"Income\"] <= 120)]\n",
    "ai121_150 = customer_data[\"Income\"][(customer_data[\"Income\"] >= 121) & (customer_data[\"Income\"] <= 150)]\n",
    "\n",
    "\n",
    "aix = [\"$ 0 - 30,000\", \"$ 30,001 - 60,000\", \"$ 60,001 - 90,000\", \"$ 90,001 - 120,000\", \"$ 120,001 - 150,000\"]\n",
    "aiy = [len(ai0_30.values), len(ai31_60.values), len(ai61_90.values), len(ai91_120.values), len(ai121_150.values)]\n",
    "\n",
    "\n",
    "plt.figure(figsize=(15,6))\n",
    "sns.barplot(x=aix, y=aiy, palette=\"Set2\")\n",
    "plt.title(\"Annual Incomes\")\n",
    "plt.xlabel(\"Income\")\n",
    "plt.ylabel(\"Number of Customer\")\n",
    "plt.show()\n"
   ]
  },
  {
   "cell_type": "markdown",
   "id": "17b95f2d",
   "metadata": {
    "papermill": {
     "duration": null,
     "end_time": null,
     "exception": null,
     "start_time": null,
     "status": "pending"
    },
    "tags": []
   },
   "source": [
    " The majority of the customers have annual income in the range 60000 and 90000."
   ]
  },
  {
   "cell_type": "code",
   "execution_count": null,
   "id": "a39d1473",
   "metadata": {
    "execution": {
     "iopub.status.busy": "2023-03-26T13:45:09.343024Z",
     "iopub.status.idle": "2023-03-26T13:45:09.344186Z",
     "shell.execute_reply": "2023-03-26T13:45:09.343886Z",
     "shell.execute_reply.started": "2023-03-26T13:45:09.343855Z"
    },
    "papermill": {
     "duration": null,
     "end_time": null,
     "exception": null,
     "start_time": null,
     "status": "pending"
    },
    "tags": []
   },
   "outputs": [],
   "source": [
    "plt.figure(figsize=(20,5))\n",
    "\n",
    "# Age\n",
    "plt.subplot(1,3,1)\n",
    "sns.histplot(customer_data['Age'],kde=True,stat=\"density\", kde_kws=dict(cut=3), alpha=.4)\n",
    "\n",
    "# Income\n",
    "plt.subplot(1,3,2)\n",
    "sns.histplot(customer_data['Income'],kde=True,stat=\"density\", kde_kws=dict(cut=3), alpha=.4)\n",
    "\n",
    "# Spending\n",
    "plt.subplot(1,3,3)\n",
    "sns.histplot(customer_data['Spending'],kde=True,stat=\"density\", kde_kws=dict(cut=3), alpha=.4)"
   ]
  },
  {
   "cell_type": "markdown",
   "id": "7f4f8655",
   "metadata": {
    "papermill": {
     "duration": null,
     "end_time": null,
     "exception": null,
     "start_time": null,
     "status": "pending"
    },
    "tags": []
   },
   "source": [
    "# D. CLUSTERING ALGORITHMS\n"
   ]
  },
  {
   "cell_type": "markdown",
   "id": "b845d951",
   "metadata": {
    "papermill": {
     "duration": null,
     "end_time": null,
     "exception": null,
     "start_time": null,
     "status": "pending"
    },
    "tags": []
   },
   "source": [
    "# a. K-Means Clustering"
   ]
  },
  {
   "cell_type": "markdown",
   "id": "f24a05b3",
   "metadata": {
    "papermill": {
     "duration": null,
     "end_time": null,
     "exception": null,
     "start_time": null,
     "status": "pending"
    },
    "tags": []
   },
   "source": [
    "The steps can be summarized in the below steps:\n",
    "\n",
    "1. Compute K-Means clustering for different values of K by varying K from 1 to 10 clusters.\n",
    "\n",
    "2. For each K, calculate the total within-cluster sum of square (WCSS).\n",
    "\n",
    "3. Plot the curve of WCSS vs the number of clusters K.\n",
    "\n",
    "4. The location of a bend (knee) in the plot is generally considered as an indicator of the appropriate number of clusters."
   ]
  },
  {
   "cell_type": "markdown",
   "id": "ee9cf377",
   "metadata": {
    "papermill": {
     "duration": null,
     "end_time": null,
     "exception": null,
     "start_time": null,
     "status": "pending"
    },
    "tags": []
   },
   "source": [
    "FINDING CLUSTERS"
   ]
  },
  {
   "cell_type": "code",
   "execution_count": null,
   "id": "53e727d8",
   "metadata": {
    "execution": {
     "iopub.status.busy": "2023-03-26T13:45:09.345744Z",
     "iopub.status.idle": "2023-03-26T13:45:09.346607Z",
     "shell.execute_reply": "2023-03-26T13:45:09.346342Z",
     "shell.execute_reply.started": "2023-03-26T13:45:09.346312Z"
    },
    "papermill": {
     "duration": null,
     "end_time": null,
     "exception": null,
     "start_time": null,
     "status": "pending"
    },
    "tags": []
   },
   "outputs": [],
   "source": [
    "from sklearn.cluster import KMeans\n",
    "wcss = []\n",
    "\n",
    "for each in range(1,15):\n",
    "    kmeans = KMeans(n_clusters=each,init=\"k-means++\")\n",
    "    kmeans.fit(customer_data)\n",
    "    wcss.append(kmeans.inertia_)"
   ]
  },
  {
   "cell_type": "code",
   "execution_count": null,
   "id": "5a6b72f6",
   "metadata": {
    "execution": {
     "iopub.status.busy": "2023-03-26T13:45:09.348150Z",
     "iopub.status.idle": "2023-03-26T13:45:09.349025Z",
     "shell.execute_reply": "2023-03-26T13:45:09.348720Z",
     "shell.execute_reply.started": "2023-03-26T13:45:09.348689Z"
    },
    "papermill": {
     "duration": null,
     "end_time": null,
     "exception": null,
     "start_time": null,
     "status": "pending"
    },
    "tags": []
   },
   "outputs": [],
   "source": [
    "plt.plot(range(1,15), wcss, marker='o')\n",
    "plt.xlabel('number of k values')\n",
    "plt.ylabel('wcss')\n",
    "plt.show()"
   ]
  },
  {
   "cell_type": "markdown",
   "id": "03b73a54",
   "metadata": {
    "papermill": {
     "duration": null,
     "end_time": null,
     "exception": null,
     "start_time": null,
     "status": "pending"
    },
    "tags": []
   },
   "source": [
    "OPTIMUM NUMBER OF CLUSTERS = 5"
   ]
  },
  {
   "cell_type": "markdown",
   "id": "5d14ec93",
   "metadata": {
    "papermill": {
     "duration": null,
     "end_time": null,
     "exception": null,
     "start_time": null,
     "status": "pending"
    },
    "tags": []
   },
   "source": [
    "TRAINING THE K-MEANS CLUSTERING MODEL"
   ]
  },
  {
   "cell_type": "code",
   "execution_count": null,
   "id": "f5dc839f",
   "metadata": {
    "execution": {
     "iopub.status.busy": "2023-03-26T13:45:09.350524Z",
     "iopub.status.idle": "2023-03-26T13:45:09.351387Z",
     "shell.execute_reply": "2023-03-26T13:45:09.351112Z",
     "shell.execute_reply.started": "2023-03-26T13:45:09.351081Z"
    },
    "papermill": {
     "duration": null,
     "end_time": null,
     "exception": null,
     "start_time": null,
     "status": "pending"
    },
    "tags": []
   },
   "outputs": [],
   "source": [
    "kmeans = KMeans(n_clusters=5, init='k-means++', random_state=0)\n",
    "Y = kmeans.fit_predict(customer_data)\n",
    "print(Y)"
   ]
  },
  {
   "cell_type": "markdown",
   "id": "7a7432bd",
   "metadata": {
    "papermill": {
     "duration": null,
     "end_time": null,
     "exception": null,
     "start_time": null,
     "status": "pending"
    },
    "tags": []
   },
   "source": [
    "This Clustering Analysis gives us a very clear insight about the different segments of the customers in the Mall. There are clearly Five segments of Customers namely Miser, General, Target, Spendthrift, Careful based on their Annual Income and Spending Score which are reportedly the best factors/attributes to determine the segments of a customer in a Mall."
   ]
  },
  {
   "cell_type": "markdown",
   "id": "751a9711",
   "metadata": {
    "papermill": {
     "duration": null,
     "end_time": null,
     "exception": null,
     "start_time": null,
     "status": "pending"
    },
    "tags": []
   },
   "source": [
    "VISUALIZING CLUSTERS"
   ]
  },
  {
   "cell_type": "code",
   "execution_count": null,
   "id": "e93b2856",
   "metadata": {
    "execution": {
     "iopub.status.busy": "2023-03-26T13:45:09.352963Z",
     "iopub.status.idle": "2023-03-26T13:45:09.353810Z",
     "shell.execute_reply": "2023-03-26T13:45:09.353541Z",
     "shell.execute_reply.started": "2023-03-26T13:45:09.353510Z"
    },
    "papermill": {
     "duration": null,
     "end_time": null,
     "exception": null,
     "start_time": null,
     "status": "pending"
    },
    "tags": []
   },
   "outputs": [],
   "source": [
    "kmeans_2 = KMeans(n_clusters=5, init=\"k-means++\")\n",
    "\n",
    "clusters = kmeans_2.fit_predict(customer_data)\n",
    "customer_data['label'] = clusters\n",
    "\n",
    "centroid_1 = customer_data[customer_data.label == 0]\n",
    "centroid_2 = customer_data[customer_data.label == 1]\n",
    "centroid_3 = customer_data[customer_data.label == 2]\n",
    "centroid_4 = customer_data[customer_data.label == 3]\n",
    "centroid_5 = customer_data[customer_data.label == 4]\n",
    "\n",
    "\n",
    "plt.scatter(centroid_1.Spending,centroid_1.Income,color='red')\n",
    "plt.scatter(centroid_2.Spending,centroid_2.Income,color='blue')\n",
    "plt.scatter(centroid_3.Spending,centroid_3.Income,color='orange')\n",
    "plt.scatter(centroid_4.Spending,centroid_4.Income,color='yellow')\n",
    "plt.scatter(centroid_5.Spending,centroid_5.Income,color='purple')\n",
    "plt.scatter(kmeans_2.cluster_centers_[:,0],kmeans_2.cluster_centers_[:,1], color = 'black')\n",
    "plt.show()"
   ]
  },
  {
   "cell_type": "markdown",
   "id": "7a296508",
   "metadata": {
    "papermill": {
     "duration": null,
     "end_time": null,
     "exception": null,
     "start_time": null,
     "status": "pending"
    },
    "tags": []
   },
   "source": [
    "Cluster 1 contains customers with high annual income but low spending score.\n",
    "\n",
    "Cluster 2 contains customers with average annual income and average spending score.\n",
    "\n",
    "Cluster 3 contains customers with high annual income and high spending score.\n",
    "\n",
    "Cluster 4 contains customers with low annual income but high spending score.\n",
    "\n",
    "Cluster 5 contains customers with low annual income and low spending score."
   ]
  },
  {
   "cell_type": "markdown",
   "id": "904310a6",
   "metadata": {
    "papermill": {
     "duration": null,
     "end_time": null,
     "exception": null,
     "start_time": null,
     "status": "pending"
    },
    "tags": []
   },
   "source": [
    "# b. Hierarchial Clustering"
   ]
  },
  {
   "cell_type": "code",
   "execution_count": null,
   "id": "9f4cf0fc",
   "metadata": {
    "execution": {
     "iopub.status.busy": "2023-03-26T13:45:09.355359Z",
     "iopub.status.idle": "2023-03-26T13:45:09.356264Z",
     "shell.execute_reply": "2023-03-26T13:45:09.355978Z",
     "shell.execute_reply.started": "2023-03-26T13:45:09.355945Z"
    },
    "papermill": {
     "duration": null,
     "end_time": null,
     "exception": null,
     "start_time": null,
     "status": "pending"
    },
    "tags": []
   },
   "outputs": [],
   "source": [
    "from scipy.cluster.hierarchy import linkage,dendrogram\n",
    "merg = linkage(customer_data,method='ward')\n",
    "\n",
    "dendrogram(merg, leaf_rotation=90)\n",
    "plt.xlabel(\"Data points\")\n",
    "plt.ylabel(\"Euclidean distance\")\n",
    "plt.show()"
   ]
  },
  {
   "cell_type": "markdown",
   "id": "91bb1cb9",
   "metadata": {
    "papermill": {
     "duration": null,
     "end_time": null,
     "exception": null,
     "start_time": null,
     "status": "pending"
    },
    "tags": []
   },
   "source": [
    "# CONCLUSION"
   ]
  },
  {
   "cell_type": "markdown",
   "id": "98e4cc34",
   "metadata": {
    "papermill": {
     "duration": null,
     "end_time": null,
     "exception": null,
     "start_time": null,
     "status": "pending"
    },
    "tags": []
   },
   "source": [
    "As you can see from the dendrogram, when we draw a horizontal line on the farthest line, we find that there are 5 points that intersect this line. So the optimal k value for Hierarchial Clustering is 5."
   ]
  }
 ],
 "metadata": {
  "kernelspec": {
   "display_name": "Python 3",
   "language": "python",
   "name": "python3"
  },
  "language_info": {
   "codemirror_mode": {
    "name": "ipython",
    "version": 3
   },
   "file_extension": ".py",
   "mimetype": "text/x-python",
   "name": "python",
   "nbconvert_exporter": "python",
   "pygments_lexer": "ipython3",
   "version": "3.7.12"
  },
  "papermill": {
   "default_parameters": {},
   "duration": 14.644563,
   "end_time": "2023-04-15T07:52:49.869101",
   "environment_variables": {},
   "exception": true,
   "input_path": "__notebook__.ipynb",
   "output_path": "__notebook__.ipynb",
   "parameters": {},
   "start_time": "2023-04-15T07:52:35.224538",
   "version": "2.4.0"
  }
 },
 "nbformat": 4,
 "nbformat_minor": 5
}
